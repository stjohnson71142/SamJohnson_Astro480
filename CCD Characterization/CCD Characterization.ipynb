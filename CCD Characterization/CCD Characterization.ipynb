{
 "cells": [
  {
   "cell_type": "code",
   "execution_count": 1,
   "metadata": {},
   "outputs": [],
   "source": [
    "%matplotlib inline\n",
    "\n",
    "import matplotlib.pyplot as plt\n",
    "import numpy as np\n",
    "from astropy.table import QTable\n",
    "from scipy.optimize import curve_fit"
   ]
  },
  {
   "cell_type": "code",
   "execution_count": 2,
   "metadata": {},
   "outputs": [
    {
     "data": {
      "text/html": [
       "&lt;QTable length=15&gt;\n",
       "<table id=\"table140332553183416\" class=\"table-striped table-bordered table-condensed\">\n",
       "<thead><tr><th>x</th><th>y</th></tr></thead>\n",
       "<thead><tr><th>float64</th><th>float64</th></tr></thead>\n",
       "<tr><td>0.00387</td><td>29.9</td></tr>\n",
       "<tr><td>0.0038</td><td>34.5</td></tr>\n",
       "<tr><td>0.00377</td><td>36.8</td></tr>\n",
       "<tr><td>0.00374</td><td>39.1</td></tr>\n",
       "<tr><td>0.00372</td><td>43.7</td></tr>\n",
       "<tr><td>0.00369</td><td>50.6</td></tr>\n",
       "<tr><td>0.00366</td><td>55.2</td></tr>\n",
       "<tr><td>0.00363</td><td>64.4</td></tr>\n",
       "<tr><td>0.00361</td><td>73.6</td></tr>\n",
       "<tr><td>0.00358</td><td>85.1</td></tr>\n",
       "<tr><td>0.00355</td><td>98.9</td></tr>\n",
       "<tr><td>0.00353</td><td>115.0</td></tr>\n",
       "<tr><td>0.0035</td><td>142.6</td></tr>\n",
       "<tr><td>0.00346</td><td>204.7</td></tr>\n",
       "<tr><td>0.00341</td><td>319.7</td></tr>\n",
       "</table>"
      ],
      "text/plain": [
       "<QTable length=15>\n",
       "   x       y   \n",
       "float64 float64\n",
       "------- -------\n",
       "0.00387    29.9\n",
       " 0.0038    34.5\n",
       "0.00377    36.8\n",
       "0.00374    39.1\n",
       "0.00372    43.7\n",
       "0.00369    50.6\n",
       "0.00366    55.2\n",
       "0.00363    64.4\n",
       "0.00361    73.6\n",
       "0.00358    85.1\n",
       "0.00355    98.9\n",
       "0.00353   115.0\n",
       " 0.0035   142.6\n",
       "0.00346   204.7\n",
       "0.00341   319.7"
      ]
     },
     "execution_count": 2,
     "metadata": {},
     "output_type": "execute_result"
    }
   ],
   "source": [
    "D1 = QTable.read('CCDdata.csv', format='ascii.csv')\n",
    "D1[0:15]"
   ]
  },
  {
   "cell_type": "code",
   "execution_count": 3,
   "metadata": {},
   "outputs": [
    {
     "data": {
      "image/png": "[encoded data removed]",
      "text/plain": [
       "<matplotlib.figure.Figure at 0x7fa1a6bb82b0>"
      ]
     },
     "metadata": {},
     "output_type": "display_data"
    }
   ],
   "source": [
    "fig,ax = plt.subplots(1,1)\n",
    "fig.set_size_inches(6,4)\n",
    "\n",
    "fig.tight_layout()\n",
    "\n",
    "ax.set_xlabel(\"This is X\")\n",
    "ax.set_ylabel(\"This is Y\")\n",
    "\n",
    "ax.plot(D1['x'],D1['y'],marker=\"o\",linestyle=\"None\",markersize=5);"
   ]
  },
  {
   "cell_type": "code",
   "execution_count": 4,
   "metadata": {},
   "outputs": [],
   "source": [
    "def fit1(x,k,b):\n",
    "    return k*np.e**(-b*x)"
   ]
  },
  {
   "cell_type": "code",
   "execution_count": 5,
   "metadata": {},
   "outputs": [
    {
     "name": "stdout",
     "output_type": "stream",
     "text": [
      "[1.27878966e+13 7.17478524e+03]\n"
     ]
    }
   ],
   "source": [
    "Kguess = 10^13\n",
    "Bguess = 10^3\n",
    "\n",
    "fitpars, error = curve_fit(fit1,D1['x'],D1['y'],p0=[Kguess,Bguess])\n",
    "\n",
    "print(fitpars)"
   ]
  },
  {
   "cell_type": "code",
   "execution_count": 6,
   "metadata": {},
   "outputs": [
    {
     "data": {
      "image/png": "[encoded data removed]",
      "text/plain": [
       "<matplotlib.figure.Figure at 0x7fa19f0f6e80>"
      ]
     },
     "metadata": {},
     "output_type": "display_data"
    }
   ],
   "source": [
    "Z = np.linspace(0.0034,0.004,1000)\n",
    "\n",
    "fig,ax = plt.subplots(1,1)\n",
    "fig.set_size_inches(6,4)\n",
    "\n",
    "fig.tight_layout()\n",
    "\n",
    "ax.set_xlabel(\"1/T (k^-1)\")\n",
    "ax.set_ylabel(\"D (e-/pixel/sec)\")\n",
    "\n",
    "ax.plot(Z, fit1(Z, *fitpars), 'r-')\n",
    "\n",
    "ax.plot(D1['x'],D1['y'],marker=\"o\",linestyle=\"None\",markersize=5);"
   ]
  },
  {
   "cell_type": "code",
   "execution_count": null,
   "metadata": {},
   "outputs": [],
   "source": []
  }
 ],
 "metadata": {
  "kernelspec": {
   "display_name": "Python 3",
   "language": "python",
   "name": "python3"
  },
  "language_info": {
   "codemirror_mode": {
    "name": "ipython",
    "version": 3
   },
   "file_extension": ".py",
   "mimetype": "text/x-python",
   "name": "python",
   "nbconvert_exporter": "python",
   "pygments_lexer": "ipython3",
   "version": "3.6.4"
  }
 },
 "nbformat": 4,
 "nbformat_minor": 2
}
